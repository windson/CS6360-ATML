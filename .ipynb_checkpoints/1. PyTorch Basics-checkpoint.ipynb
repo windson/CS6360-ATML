{
 "cells": [
  {
   "cell_type": "code",
   "execution_count": 1,
   "metadata": {},
   "outputs": [],
   "source": [
    "import torch"
   ]
  },
  {
   "cell_type": "code",
   "execution_count": 2,
   "metadata": {},
   "outputs": [
    {
     "name": "stdout",
     "output_type": "stream",
     "text": [
      "tensor([[ 1.,  2.,  3.],\n",
      "        [ 4.,  5.,  6.],\n",
      "        [ 7.,  8.,  9.]])\n"
     ]
    }
   ],
   "source": [
    "t = torch.Tensor([[1,2,3],[4,5,6],[7,8,9]])\n",
    "print(t)"
   ]
  },
  {
   "cell_type": "markdown",
   "metadata": {},
   "source": [
    "#### Methods to Extract column from a given tensor\n",
    "##### 1. unbind\n",
    "\n",
    "    torch.unbind(tensor, dim=0)\n",
    "\n",
    "Removes a tensor dimension.\n",
    "\n",
    "Returns a tuple of all slices along a given dimension, already without it.\n",
    "\n",
    "Parameters: \n",
    "\n",
    "            tensor (Tensor) – the tensor to unbind\n",
    "\n",
    "            dim (int) – dimension to remove (for a 2-d tensor 0 means row wise, 1 means column wise)"
   ]
  },
  {
   "cell_type": "code",
   "execution_count": 3,
   "metadata": {},
   "outputs": [
    {
     "name": "stdout",
     "output_type": "stream",
     "text": [
      "tensor([ 2.,  5.,  8.])\n"
     ]
    }
   ],
   "source": [
    "col1 = torch.unbind(t,1)[1]\n",
    "print(col1)"
   ]
  },
  {
   "cell_type": "markdown",
   "metadata": {},
   "source": [
    "##### 2. numpy style indexing\n",
    "pytorch ternsors support numpy indexing too.\n",
    "\n",
    "    subset = t[ row_start : row_end , column_start:column_end]"
   ]
  },
  {
   "cell_type": "code",
   "execution_count": 4,
   "metadata": {},
   "outputs": [
    {
     "name": "stdout",
     "output_type": "stream",
     "text": [
      "tensor([ 2.,  5.,  8.])\n"
     ]
    }
   ],
   "source": [
    "col2 = t[:,1:1]\n",
    "print(col2)"
   ]
  },
  {
   "cell_type": "markdown",
   "metadata": {},
   "source": [
    "##### 3. Transpose"
   ]
  },
  {
   "cell_type": "code",
   "execution_count": 23,
   "metadata": {},
   "outputs": [
    {
     "name": "stdout",
     "output_type": "stream",
     "text": [
      "tensor([ 2.,  5.,  8.])\n"
     ]
    }
   ],
   "source": [
    "\n",
    "col3 =  torch.t(t)[1,:]\n",
    "print(col3)"
   ]
  },
  {
   "cell_type": "markdown",
   "metadata": {},
   "source": [
    "##### 4 index_select\n",
    "\n",
    "    torch.index_select(input, dim, index, out=None)\n",
    "\n",
    "Returns a new tensor which indexes the input tensor along dimension dim using the entries in index which is a LongTensor.\n",
    "\n",
    "The returned tensor has the same number of dimensions as the original tensor (input). The dimth dimension has the same size as the length of index; other dimensions have the same size as in the original tensor.\n",
    "\n",
    "Parameters:\n",
    "\n",
    "    input (Tensor) – the input tensor\n",
    "    dim (int) – the dimension in which we index\n",
    "    index (LongTensor) – the 1-D tensor containing the indices to index\n",
    "    out (Tensor, optional) – the output tensor"
   ]
  },
  {
   "cell_type": "code",
   "execution_count": 13,
   "metadata": {},
   "outputs": [
    {
     "name": "stdout",
     "output_type": "stream",
     "text": [
      "tensor([[ 2.],\n",
      "        [ 5.],\n",
      "        [ 8.]])\n"
     ]
    }
   ],
   "source": [
    "col4 = torch.index_select(t, 1, torch.LongTensor([1]))\n",
    "print(col4)"
   ]
  },
  {
   "cell_type": "code",
   "execution_count": 47,
   "metadata": {},
   "outputs": [
    {
     "name": "stdout",
     "output_type": "stream",
     "text": [
      "----------------------------------------------------------------------------------\n",
      "|Method \t\t\t| DataType \t\t\t| Dimension\t|\n",
      "----------------------------------------------------------------------------------\n",
      "|unbind \t\t\t| <class 'torch.Tensor'> \t| 1 \t\t|\n",
      "|numpy style indexing \t\t| <class 'torch.Tensor'> \t| 1 \t\t|\n",
      "|Transpose \t\t\t| <class 'torch.Tensor'> \t| 1 \t\t|\n",
      "|index_select \t\t\t| <class 'torch.Tensor'> \t| 2 \t\t|\n"
     ]
    }
   ],
   "source": [
    "print('----------------------------------------------------------------------------------')\n",
    "print('|Method', '\\t\\t\\t|','DataType', '\\t\\t\\t|', 'Dimension\\t|')\n",
    "print('----------------------------------------------------------------------------------')\n",
    "print('|unbind', '\\t\\t\\t|',type(col1), '\\t|',col1.dim(),'\\t\\t|')\n",
    "print('|numpy style indexing', '\\t\\t|',type(col2), '\\t|',col2.dim(),'\\t\\t|')\n",
    "print('|Transpose', '\\t\\t\\t|',type(col3), '\\t|',col3.dim(),'\\t\\t|')\n",
    "print('|index_select', '\\t\\t\\t|',type(col4), '\\t|',col4.dim(),'\\t\\t|')\n",
    "print('----------------------------------------------------------------------------------')"
   ]
  },
  {
   "cell_type": "code",
   "execution_count": 22,
   "metadata": {},
   "outputs": [
    {
     "name": "stdout",
     "output_type": "stream",
     "text": [
      "1\n"
     ]
    }
   ],
   "source": [
    "\n",
    "print (torch.t(t)[1,:].dim())"
   ]
  }
 ],
 "metadata": {
  "kernelspec": {
   "display_name": "Python 3",
   "language": "python",
   "name": "python3"
  },
  "language_info": {
   "codemirror_mode": {
    "name": "ipython",
    "version": 3
   },
   "file_extension": ".py",
   "mimetype": "text/x-python",
   "name": "python",
   "nbconvert_exporter": "python",
   "pygments_lexer": "ipython3",
   "version": "3.6.4"
  }
 },
 "nbformat": 4,
 "nbformat_minor": 2
}
